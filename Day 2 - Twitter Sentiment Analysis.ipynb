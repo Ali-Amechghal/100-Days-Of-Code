{
 "cells": [
  {
   "cell_type": "markdown",
   "metadata": {},
   "source": [
    "First you need to install tweepy and Textblob"
   ]
  },
  {
   "cell_type": "code",
   "execution_count": 1,
   "metadata": {},
   "outputs": [
    {
     "name": "stdout",
     "output_type": "stream",
     "text": [
      "Requirement already satisfied: tweepy in c:\\users\\daffodilpc\\anaconda3\\lib\\site-packages (3.7.0)\n",
      "Requirement already satisfied: requests>=2.11.1 in c:\\users\\daffodilpc\\anaconda3\\lib\\site-packages (from tweepy) (2.18.4)\n",
      "Requirement already satisfied: requests-oauthlib>=0.7.0 in c:\\users\\daffodilpc\\anaconda3\\lib\\site-packages (from tweepy) (1.1.0)\n",
      "Requirement already satisfied: six>=1.10.0 in c:\\users\\daffodilpc\\anaconda3\\lib\\site-packages (from tweepy) (1.11.0)\n",
      "Requirement already satisfied: PySocks>=1.5.7 in c:\\users\\daffodilpc\\anaconda3\\lib\\site-packages (from tweepy) (1.6.7)\n",
      "Requirement already satisfied: chardet<3.1.0,>=3.0.2 in c:\\users\\daffodilpc\\anaconda3\\lib\\site-packages (from requests>=2.11.1->tweepy) (3.0.4)\n",
      "Requirement already satisfied: idna<2.7,>=2.5 in c:\\users\\daffodilpc\\anaconda3\\lib\\site-packages (from requests>=2.11.1->tweepy) (2.6)\n",
      "Requirement already satisfied: urllib3<1.23,>=1.21.1 in c:\\users\\daffodilpc\\anaconda3\\lib\\site-packages (from requests>=2.11.1->tweepy) (1.22)\n",
      "Requirement already satisfied: certifi>=2017.4.17 in c:\\users\\daffodilpc\\anaconda3\\lib\\site-packages (from requests>=2.11.1->tweepy) (2018.11.29)\n",
      "Requirement already satisfied: oauthlib<3.0.0,>=2.1.0 in c:\\users\\daffodilpc\\anaconda3\\lib\\site-packages (from requests-oauthlib>=0.7.0->tweepy) (2.1.0)\n"
     ]
    }
   ],
   "source": [
    "!pip install tweepy"
   ]
  },
  {
   "cell_type": "code",
   "execution_count": 2,
   "metadata": {},
   "outputs": [
    {
     "name": "stdout",
     "output_type": "stream",
     "text": [
      "Requirement already satisfied: Textblob in c:\\users\\daffodilpc\\anaconda3\\lib\\site-packages (0.15.2)\n",
      "Requirement already satisfied: nltk>=3.1 in c:\\users\\daffodilpc\\anaconda3\\lib\\site-packages (from Textblob) (3.2.5)\n",
      "Requirement already satisfied: six in c:\\users\\daffodilpc\\anaconda3\\lib\\site-packages (from nltk>=3.1->Textblob) (1.11.0)\n"
     ]
    }
   ],
   "source": [
    "!pip install Textblob"
   ]
  },
  {
   "cell_type": "code",
   "execution_count": 33,
   "metadata": {},
   "outputs": [],
   "source": [
    "#Import the tweepy package for accessing Twitter APIs in Python\n",
    "import tweepy\n",
    "#Import textblob package for sentiment anaysis of each tweet fetched from the API\n",
    "from textblob import TextBlob"
   ]
  },
  {
   "cell_type": "markdown",
   "metadata": {},
   "source": [
    "We need to declare the variables to store the various keys associated with the Twitter API."
   ]
  },
  {
   "cell_type": "code",
   "execution_count": 9,
   "metadata": {},
   "outputs": [],
   "source": [
    "#API Keys required for supporting the usage of the Twitter APIs\n",
    "#Access and Consumer keys and secret for authenticating this script to work with the Twitter API\n",
    "\n",
    "consumer_key= 'Place your consumer key here'\n",
    "consumer_secret= 'Place your consumer_secret here'\n",
    "\n",
    "access_token= 'Place your access_token here'\n",
    "access_token_secret= 'Place your access_token_secret here'"
   ]
  },
  {
   "cell_type": "markdown",
   "metadata": {},
   "source": [
    "Authentication is handled by the tweepy.OAuthHandler class.\n",
    "An OAuthHandler instance must be created by passing a consumer token and secret.\n",
    "On this auth instance, we will call a function set_access_token by passing the access_token and access_token_secret."
   ]
  },
  {
   "cell_type": "code",
   "execution_count": 10,
   "metadata": {},
   "outputs": [],
   "source": [
    "auth = tweepy.OAuthHandler(consumer_key, consumer_secret)\n",
    "auth.set_access_token(access_token, access_token_secret)"
   ]
  },
  {
   "cell_type": "markdown",
   "metadata": {},
   "source": [
    "The next step is to create a connection with the Twitter API using tweepy with these tokens."
   ]
  },
  {
   "cell_type": "code",
   "execution_count": 11,
   "metadata": {},
   "outputs": [],
   "source": [
    "#API variable for communicating our actions to the Twitter APIs\n",
    "api = tweepy.API(auth)"
   ]
  },
  {
   "cell_type": "markdown",
   "metadata": {},
   "source": [
    "We can now search Twitter for any topic using the search method of the API."
   ]
  },
  {
   "cell_type": "code",
   "execution_count": 30,
   "metadata": {},
   "outputs": [
    {
     "name": "stdout",
     "output_type": "stream",
     "text": [
      "What topic you want to find ? : Trump\n"
     ]
    }
   ],
   "source": [
    "#Asking the topic from the tweet_use\n",
    "tweet_search_topic = input(\"What topic you want to find ? : \")"
   ]
  },
  {
   "cell_type": "code",
   "execution_count": 31,
   "metadata": {},
   "outputs": [],
   "source": [
    "#Storing the tweets\n",
    "public_tweets = api.search(tweet_search_topic)"
   ]
  },
  {
   "cell_type": "code",
   "execution_count": 32,
   "metadata": {},
   "outputs": [
    {
     "name": "stdout",
     "output_type": "stream",
     "text": [
      "RT @Pappiness: By postponing the State of the Union, Nancy Pelosi is taking away what's most important to Trump - cameras, TV ratings, and…\n",
      "Sentiment(polarity=0.45, subjectivity=0.75)\n",
      "Positive\n",
      "RT @ABCNewsLive: \"Certainly a bad sign that Nancy Pelosi, the speaker of the House, thinks that this will still be going in 13 days,\" @kare…\n",
      "Sentiment(polarity=-0.6999999999999998, subjectivity=0.6666666666666666)\n",
      "Negative\n",
      "RT @DennisDMZ: Nancy Pelosi to Trump: \"Postpone State of the Union or Submit it in Written Form...and use two syllable words max as I'd lik…\n",
      "Sentiment(polarity=0.0, subjectivity=0.0)\n",
      "Neutral\n",
      "@KevinDBishop @LindseyGrahamSC The Reps &amp; Trump are rightfully blamed for shrugging off a bipartisan package to reo… https://t.co/eZErFcjYNv\n",
      "Sentiment(polarity=0.0, subjectivity=0.0)\n",
      "Neutral\n",
      "RT @TomSteyer: Mr. Trump met the criteria for impeachment long ago. That's why millions of Americans are demanding Congress step up and hol…\n",
      "Sentiment(polarity=-0.05, subjectivity=0.4)\n",
      "Negative\n",
      "RT @AOC: We have secured enough Republican votes in the Senate to reopen government.\n",
      "\n",
      "Our obstacle now is Mitch McConnell, who won’t call t…\n",
      "Sentiment(polarity=0.0, subjectivity=0.5)\n",
      "Neutral\n",
      "RT @SheriffClarke: Nothing is sacred from politicization as far as Democrats are concerned. Now it’s the State of the Union. Her excuse is…\n",
      "Sentiment(polarity=0.025, subjectivity=0.525)\n",
      "Positive\n",
      "RT @DCM_online: Caiu na rede: “Make mamata great again”, o boné de Bolsonaro inspirado em Trump https://t.co/JDY0L7Herd\n",
      "Sentiment(polarity=0.8, subjectivity=0.75)\n",
      "Positive\n",
      "RT @ChadPergram: Colleague Mike Emanuel rpts Sens Graham/Coons draft bipartisan letter to Trump, urging support of short-term spending bill…\n",
      "Sentiment(polarity=0.0, subjectivity=0.0)\n",
      "Neutral\n",
      "RT @Roxann_Minerals: Votes to increase Trump's military budget:\n",
      "Booker: 3\n",
      "Brown: 3\n",
      "Gabbard: 1\n",
      "Gillibrand: 1\n",
      "Harris: 2\n",
      "Kaine: 3\n",
      "Kennedy III:…\n",
      "Sentiment(polarity=0.35, subjectivity=0.775)\n",
      "Positive\n",
      "RT @DailyCaller: 'She is terrified of him' https://t.co/kBqtLhVFYy\n",
      "Sentiment(polarity=0.0, subjectivity=0.0)\n",
      "Neutral\n",
      "@sonyamwelch @charliekirk11 Trump already signed the legislative appropriations bill. That’s why Congress is still being paid.\n",
      "Sentiment(polarity=0.0, subjectivity=0.0)\n",
      "Neutral\n",
      "RT @thehill: Ayesha Curry invites Clemson Tigers to \"real feast and celebration\" after Trump's fast-food meal https://t.co/pePGNHmBK8 https…\n",
      "Sentiment(polarity=0.2, subjectivity=0.30000000000000004)\n",
      "Positive\n",
      "RT @DonaldJTrumpJr: Donald Trump Jr. Posts Moving Footage Of 'Angel Mom' To Social Media, Asks Nancy Pelosi Vital Question | Daily Wire  ht…\n",
      "Sentiment(polarity=0.044444444444444446, subjectivity=0.15555555555555556)\n",
      "Positive\n",
      "RT @jaxel222: Look...I'm sure this will funny.\n",
      "\n",
      "But it's also possible that every joke will boil down to, \"LOL, Trump is such an idiot for…\n",
      "Sentiment(polarity=0.08492063492063491, subjectivity=0.7396825396825396)\n",
      "Positive\n"
     ]
    }
   ],
   "source": [
    "for tweet in public_tweets:\n",
    "    print(tweet.text)\n",
    "    analysis = TextBlob(tweet.text)\n",
    "    print(analysis.sentiment)\n",
    "    \n",
    "    if analysis.sentiment[0]>0:\n",
    "       print ('Positive')\n",
    "    elif analysis.sentiment[0]<0:\n",
    "       print ('Negative')\n",
    "    else:\n",
    "       print ('Neutral')"
   ]
  },
  {
   "cell_type": "markdown",
   "metadata": {},
   "source": [
    "We get the output. Thank you all. :)\n",
    "This code is based on __[Twitter Sentiment Analysis — Learn Python for Data Science]  (https://www.youtube.com/watch?v=T5pRlIbr6gg&list=PL2-dafEMk2A6QKz1mrk1uIGfHkC1zZ6UU)__ by Siraj Raval."
   ]
  }
 ],
 "metadata": {
  "kernelspec": {
   "display_name": "Python 3",
   "language": "python",
   "name": "python3"
  },
  "nbTranslate": {
   "displayLangs": [
    "*"
   ],
   "hotkey": "alt-t",
   "langInMainMenu": true,
   "sourceLang": "en",
   "targetLang": "fr",
   "useGoogleTranslate": true
  },
  "toc": {
   "base_numbering": 1,
   "nav_menu": {},
   "number_sections": true,
   "sideBar": true,
   "skip_h1_title": true,
   "title_cell": "Table of Contents",
   "title_sidebar": "Contents",
   "toc_cell": false,
   "toc_position": {},
   "toc_section_display": true,
   "toc_window_display": false
  }
 },
 "nbformat": 4,
 "nbformat_minor": 2
}
