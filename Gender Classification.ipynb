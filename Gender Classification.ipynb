{
 "cells": [
  {
   "cell_type": "code",
   "execution_count": 5,
   "metadata": {},
   "outputs": [],
   "source": [
    "#import enssential dependencies from sklearn\n",
    "from sklearn import neighbors\n",
    "from sklearn import tree\n",
    "from sklearn.ensemble import RandomForestClassifier\n",
    "from sklearn.svm import SVC\n",
    "from sklearn.linear_model import LogisticRegression"
   ]
  },
  {
   "cell_type": "code",
   "execution_count": 6,
   "metadata": {},
   "outputs": [],
   "source": [
    "#[height, weight, shoe size]\n",
    "X = [[181,80,44], [177, 70, 43], [160, 60, 38], [154, 54,37], \n",
    "\t [166,65,40], [190,90,47], [175,64,39], [177,70,40], [159, 55,39], [171,75,42], [181,85,43]]\n",
    "\n",
    "#gender\n",
    "Y =  ['male', 'female', 'female', 'female', 'male', 'male',\n",
    "\t  'male', 'female','male', 'female', 'male']"
   ]
  },
  {
   "cell_type": "code",
   "execution_count": 7,
   "metadata": {},
   "outputs": [],
   "source": [
    "#create variables with classifiers\n",
    "\n",
    "dtc_clf = tree.DecisionTreeClassifier()\n",
    "neighbors = neighbors.KNeighborsClassifier()\n",
    "rfc_clf = RandomForestClassifier()\n",
    "l_clf = LogisticRegression()\n",
    "s_clf = SVC()"
   ]
  },
  {
   "cell_type": "code",
   "execution_count": 8,
   "metadata": {},
   "outputs": [
    {
     "name": "stderr",
     "output_type": "stream",
     "text": [
      "C:\\Users\\DaffodilPC\\Anaconda3\\lib\\site-packages\\sklearn\\ensemble\\forest.py:248: FutureWarning: The default value of n_estimators will change from 10 in version 0.20 to 100 in 0.22.\n",
      "  \"10 in version 0.20 to 100 in 0.22.\", FutureWarning)\n",
      "C:\\Users\\DaffodilPC\\Anaconda3\\lib\\site-packages\\sklearn\\linear_model\\logistic.py:432: FutureWarning: Default solver will be changed to 'lbfgs' in 0.22. Specify a solver to silence this warning.\n",
      "  FutureWarning)\n",
      "C:\\Users\\DaffodilPC\\Anaconda3\\lib\\site-packages\\sklearn\\svm\\base.py:196: FutureWarning: The default value of gamma will change from 'auto' to 'scale' in version 0.22 to account better for unscaled features. Set gamma explicitly to 'auto' or 'scale' to avoid this warning.\n",
      "  \"avoid this warning.\", FutureWarning)\n"
     ]
    },
    {
     "data": {
      "text/plain": [
       "SVC(C=1.0, cache_size=200, class_weight=None, coef0=0.0,\n",
       "  decision_function_shape='ovr', degree=3, gamma='auto_deprecated',\n",
       "  kernel='rbf', max_iter=-1, probability=False, random_state=None,\n",
       "  shrinking=True, tol=0.001, verbose=False)"
      ]
     },
     "execution_count": 8,
     "metadata": {},
     "output_type": "execute_result"
    }
   ],
   "source": [
    "#fit them\n",
    "\n",
    "dtc_clf = dtc_clf.fit(X,Y)\n",
    "neighbors = neighbors.fit(X,Y)\n",
    "rfc_clf.fit(X,Y)\n",
    "l_clf.fit(X,Y)\n",
    "s_clf.fit(X,Y)"
   ]
  },
  {
   "cell_type": "code",
   "execution_count": 9,
   "metadata": {},
   "outputs": [],
   "source": [
    "#create prediction variables for results\n",
    "\n",
    "predictionForDecisionTree = dtc_clf.predict([[167,63,41]])\n",
    "predictionForNeighbors = neighbors.predict([[167,63,41]])\n",
    "predictionForRandomForest = rfc_clf.predict([[167,63,41]])\n",
    "predictionForLogisticRegression = l_clf.predict([[167,63,41]])\n",
    "predictionForSVM = s_clf.predict([[167,63,41]])"
   ]
  },
  {
   "cell_type": "code",
   "execution_count": 10,
   "metadata": {},
   "outputs": [
    {
     "name": "stdout",
     "output_type": "stream",
     "text": [
      "DecisionTree:  ['male']\n",
      "NearestNeighbors:  ['male']\n",
      "RandomForest:  ['male']\n",
      "LogisticRegression:  ['female']\n",
      "SVM:  ['male']\n"
     ]
    }
   ],
   "source": [
    "#print all the results\n",
    "\n",
    "print(\"DecisionTree: \", predictionForDecisionTree)\n",
    "print(\"NearestNeighbors: \", predictionForNeighbors)\n",
    "print(\"RandomForest: \", predictionForRandomForest)\n",
    "print(\"LogisticRegression: \", predictionForLogisticRegression)\n",
    "print(\"SVM: \", predictionForSVM)"
   ]
  },
  {
   "cell_type": "code",
   "execution_count": null,
   "metadata": {},
   "outputs": [],
   "source": []
  },
  {
   "cell_type": "code",
   "execution_count": null,
   "metadata": {},
   "outputs": [],
   "source": []
  },
  {
   "cell_type": "code",
   "execution_count": null,
   "metadata": {},
   "outputs": [],
   "source": []
  },
  {
   "cell_type": "code",
   "execution_count": null,
   "metadata": {},
   "outputs": [],
   "source": []
  },
  {
   "cell_type": "code",
   "execution_count": null,
   "metadata": {},
   "outputs": [],
   "source": []
  },
  {
   "cell_type": "code",
   "execution_count": null,
   "metadata": {},
   "outputs": [],
   "source": []
  }
 ],
 "metadata": {
  "kernelspec": {
   "display_name": "Python 3",
   "language": "python",
   "name": "python3"
  },
  "nbTranslate": {
   "displayLangs": [
    "*"
   ],
   "hotkey": "alt-t",
   "langInMainMenu": true,
   "sourceLang": "en",
   "targetLang": "fr",
   "useGoogleTranslate": true
  },
  "toc": {
   "base_numbering": 1,
   "nav_menu": {},
   "number_sections": true,
   "sideBar": true,
   "skip_h1_title": true,
   "title_cell": "Table of Contents",
   "title_sidebar": "Contents",
   "toc_cell": false,
   "toc_position": {},
   "toc_section_display": true,
   "toc_window_display": false
  }
 },
 "nbformat": 4,
 "nbformat_minor": 2
}
